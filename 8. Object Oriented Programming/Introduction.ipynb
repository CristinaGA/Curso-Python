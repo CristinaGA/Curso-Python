{
 "cells": [
  {
   "cell_type": "markdown",
   "metadata": {},
   "source": [
    "class NameOfClass(): # Nombre de la clase, debe ser creada con Mayúsculas\n",
    "\n",
    "    def __init__(self, param1, param2): #Se parece bastante a una función, pero se le conoce como método dado que está dentro\n",
    "                                        de un objeto o una clase\n",
    "                                        param1 y param2 son dos atributos que se espera que se pasen cuando se cree instancia\n",
    "                                        de ese objeto\n",
    "        self.param1 = param1\n",
    "        self.param2 = param2 #Se está igualando el parámetro que se pasa al parámetro de la instancia, asignándolo a un\n",
    "                             atributo de la función\n",
    "    \n",
    "    def some_method(self): #Se le pasa el atributo self, para que Python sepa que no es solo una función, sino un método\n",
    "                           conectado a la clase\n",
    "        #perfom some action\n",
    "        print(self.param)"
   ]
  }
 ],
 "metadata": {
  "kernelspec": {
   "display_name": "Python 3",
   "language": "python",
   "name": "python3"
  },
  "language_info": {
   "codemirror_mode": {
    "name": "ipython",
    "version": 3
   },
   "file_extension": ".py",
   "mimetype": "text/x-python",
   "name": "python",
   "nbconvert_exporter": "python",
   "pygments_lexer": "ipython3",
   "version": "3.8.3"
  }
 },
 "nbformat": 4,
 "nbformat_minor": 4
}
