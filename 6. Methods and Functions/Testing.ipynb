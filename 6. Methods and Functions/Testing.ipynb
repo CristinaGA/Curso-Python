{
 "cells": [
  {
   "cell_type": "code",
   "execution_count": 16,
   "metadata": {},
   "outputs": [],
   "source": [
    "def myfunc(args):\n",
    "    i = 0\n",
    "    newstringl = args.lower()\n",
    "    newstringu = args.upper()\n",
    "    newstring = ''\n",
    "    while i < len(args):\n",
    "        if i % 2 == 0:\n",
    "            newstring = newstring + newstringl[i]\n",
    "            i += 1\n",
    "        else:\n",
    "            newstring = newstring + newstringu[i]\n",
    "            i += 1\n",
    "    return newstring"
   ]
  },
  {
   "cell_type": "code",
   "execution_count": 17,
   "metadata": {},
   "outputs": [
    {
     "name": "stdout",
     "output_type": "stream",
     "text": [
      "hellowidnal\n",
      "HELLOWIDNAL\n"
     ]
    },
    {
     "data": {
      "text/plain": [
       "'hElLoWiDnAl'"
      ]
     },
     "execution_count": 17,
     "metadata": {},
     "output_type": "execute_result"
    }
   ],
   "source": [
    "myfunc('HellOWidnal')"
   ]
  }
 ],
 "metadata": {
  "kernelspec": {
   "display_name": "Python 3",
   "language": "python",
   "name": "python3"
  },
  "language_info": {
   "codemirror_mode": {
    "name": "ipython",
    "version": 3
   },
   "file_extension": ".py",
   "mimetype": "text/x-python",
   "name": "python",
   "nbconvert_exporter": "python",
   "pygments_lexer": "ipython3",
   "version": "3.8.3"
  }
 },
 "nbformat": 4,
 "nbformat_minor": 4
}
